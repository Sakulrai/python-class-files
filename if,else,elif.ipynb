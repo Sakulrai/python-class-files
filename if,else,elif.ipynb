{
 "cells": [
  {
   "cell_type": "code",
   "execution_count": 1,
   "id": "0cfb7d97",
   "metadata": {},
   "outputs": [],
   "source": [
    "elements=[2,3,4,5,7,6,8]"
   ]
  },
  {
   "cell_type": "code",
   "execution_count": 9,
   "id": "da748929",
   "metadata": {},
   "outputs": [
    {
     "name": "stdout",
     "output_type": "stream",
     "text": [
      "2\n",
      "3\n",
      "4\n",
      "5\n",
      "7\n",
      "6\n",
      "8\n"
     ]
    }
   ],
   "source": [
    "for i in elements:\n",
    "    print(i)"
   ]
  },
  {
   "cell_type": "code",
   "execution_count": null,
   "id": "7a075d49",
   "metadata": {},
   "outputs": [],
   "source": [
    "#if,else,elif statements"
   ]
  },
  {
   "cell_type": "code",
   "execution_count": null,
   "id": "4fe76544",
   "metadata": {},
   "outputs": [],
   "source": [
    "if some_condition\n",
    "  #execute some code\n",
    "else:\n",
    "    # do something else"
   ]
  },
  {
   "cell_type": "code",
   "execution_count": 2,
   "id": "f2e04e72",
   "metadata": {},
   "outputs": [
    {
     "name": "stdout",
     "output_type": "stream",
     "text": [
      "its true\n"
     ]
    }
   ],
   "source": [
    "if True:\n",
    "    print('its true')\n"
   ]
  },
  {
   "cell_type": "code",
   "execution_count": 6,
   "id": "87b31a5a",
   "metadata": {},
   "outputs": [
    {
     "name": "stdout",
     "output_type": "stream",
     "text": [
      "its ture\n"
     ]
    }
   ],
   "source": [
    "if 4>2:\n",
    "   print('its ture')"
   ]
  },
  {
   "cell_type": "code",
   "execution_count": 10,
   "id": "ed6c9b49",
   "metadata": {},
   "outputs": [
    {
     "name": "stdout",
     "output_type": "stream",
     "text": [
      "feed me\n"
     ]
    }
   ],
   "source": [
    "if True:\n",
    "   print('feed me')"
   ]
  },
  {
   "cell_type": "code",
   "execution_count": 14,
   "id": "2e8ec91a",
   "metadata": {},
   "outputs": [
    {
     "name": "stdout",
     "output_type": "stream",
     "text": [
      "feed me\n"
     ]
    }
   ],
   "source": [
    "hungry=True\n",
    "if hungry:\n",
    "    print('feed me')"
   ]
  },
  {
   "cell_type": "code",
   "execution_count": 19,
   "id": "90a7ab97",
   "metadata": {},
   "outputs": [
    {
     "name": "stdout",
     "output_type": "stream",
     "text": [
      "I 'm not hungry\n"
     ]
    }
   ],
   "source": [
    "hungry=False\n",
    "if hungry:\n",
    "   print('feed me')\n",
    "else:\n",
    "     print(\"I 'm not hungry\")"
   ]
  },
  {
   "cell_type": "code",
   "execution_count": 27,
   "id": "eed18afe",
   "metadata": {},
   "outputs": [
    {
     "name": "stdout",
     "output_type": "stream",
     "text": [
      "I do not know much\n"
     ]
    }
   ],
   "source": [
    "loc= 'Bank'\n",
    "if loc=='Auto shop':\n",
    "   print('Cars are cool')\n",
    "else:\n",
    "    print('I do not know much')\n"
   ]
  },
  {
   "cell_type": "code",
   "execution_count": 28,
   "id": "b9f2bd2d",
   "metadata": {},
   "outputs": [
    {
     "name": "stdout",
     "output_type": "stream",
     "text": [
      "money is cool$$\n"
     ]
    }
   ],
   "source": [
    "loc='bank'\n",
    "if loc=='auto shop':\n",
    "    print('cars are cool')\n",
    "elif loc=='bank':\n",
    "     print('money is cool$$')\n",
    "else:\n",
    "    print('I do not know much')"
   ]
  },
  {
   "cell_type": "code",
   "execution_count": 29,
   "id": "f1560358",
   "metadata": {},
   "outputs": [
    {
     "name": "stdout",
     "output_type": "stream",
     "text": [
      "welcome to the shop\n"
     ]
    }
   ],
   "source": [
    "loc='store'\n",
    "if loc=='auto shop':\n",
    "    print('cars are cool')\n",
    "elif loc=='bank':\n",
    "    print('money is coll$$')\n",
    "elif loc=='store':\n",
    "    print('welcome to the shop')\n",
    "else:\n",
    "    print('i do not know much')"
   ]
  },
  {
   "cell_type": "code",
   "execution_count": 30,
   "id": "e6b59e79",
   "metadata": {},
   "outputs": [],
   "source": [
    "#for loop"
   ]
  },
  {
   "cell_type": "code",
   "execution_count": 38,
   "id": "221f6222",
   "metadata": {},
   "outputs": [
    {
     "name": "stdout",
     "output_type": "stream",
     "text": [
      "1\n",
      "2\n",
      "3\n",
      "4\n",
      "5\n",
      "6\n",
      "7\n",
      "8\n"
     ]
    }
   ],
   "source": [
    "my_iterable=[1,2,3,4,5,6,7,8]\n",
    "for happy in my_iterable:\n",
    "    print(happy)"
   ]
  },
  {
   "cell_type": "code",
   "execution_count": 8,
   "id": "743c66f5",
   "metadata": {},
   "outputs": [
    {
     "name": "stdout",
     "output_type": "stream",
     "text": [
      "amchokey\n",
      "amchokey\n",
      "amchokey\n",
      "amchokey\n",
      "amchokey\n",
      "amchokey\n",
      "amchokey\n"
     ]
    }
   ],
   "source": [
    "mylist=[1,2,3,4,5,6,7]\n",
    "for num in mylist:\n",
    "    print('amchokey')\n"
   ]
  },
  {
   "cell_type": "code",
   "execution_count": 46,
   "id": "ecbb5cc4",
   "metadata": {},
   "outputs": [
    {
     "name": "stdout",
     "output_type": "stream",
     "text": [
      "2\n",
      "4\n",
      "6\n",
      "8\n"
     ]
    }
   ],
   "source": [
    "mylist=[1,2,3,4,5,6,7,8,9]\n",
    "for num in mylist:\n",
    "    if num%2==0:\n",
    "        print(num)"
   ]
  },
  {
   "cell_type": "code",
   "execution_count": 14,
   "id": "2dc65cf6",
   "metadata": {},
   "outputs": [
    {
     "name": "stdout",
     "output_type": "stream",
     "text": [
      "Odd number1\n",
      "2\n",
      "Odd number3\n",
      "4\n",
      "Odd number5\n",
      "6\n",
      "Odd number7\n",
      "8\n",
      "Odd number9\n",
      "10\n"
     ]
    }
   ],
   "source": [
    "mylist=[1,2,3,4,5,6,7,8,9,10]\n",
    "for num in mylist:\n",
    "    if num%2 ==0:\n",
    "        print(num)\n",
    "    else:\n",
    "        print(f'Odd number{num}')"
   ]
  },
  {
   "cell_type": "code",
   "execution_count": 19,
   "id": "bc75754b",
   "metadata": {},
   "outputs": [
    {
     "name": "stdout",
     "output_type": "stream",
     "text": [
      "1\n",
      "3\n",
      "6\n",
      "10\n",
      "15\n",
      "21\n",
      "28\n",
      "36\n",
      "45\n",
      "55\n"
     ]
    }
   ],
   "source": [
    "mylist=[1,2,3,4,5,6,7,8,9,10]\n",
    "list_sum=0\n",
    "for num in mylist:\n",
    "    list_sum=list_sum +num\n",
    "    print(list_sum)"
   ]
  },
  {
   "cell_type": "code",
   "execution_count": 22,
   "id": "dc834138",
   "metadata": {},
   "outputs": [
    {
     "name": "stdout",
     "output_type": "stream",
     "text": [
      "-1\n",
      "-3\n",
      "-6\n",
      "-10\n",
      "-15\n",
      "-21\n",
      "-28\n",
      "-36\n",
      "-45\n",
      "-55\n"
     ]
    }
   ],
   "source": [
    "mylist=[1,2,3,4,5,6,7,8,9,10]\n",
    "list_sub=0\n",
    "for num in mylist :\n",
    "    list_sub=list_sub-num\n",
    "    print(list_sub)"
   ]
  },
  {
   "cell_type": "code",
   "execution_count": 23,
   "id": "ec867fb3",
   "metadata": {},
   "outputs": [
    {
     "name": "stdout",
     "output_type": "stream",
     "text": [
      "s\n",
      "a\n",
      "k\n",
      "u\n",
      "l\n",
      " \n",
      "r\n",
      "a\n",
      "i\n"
     ]
    }
   ],
   "source": [
    "mystring='sakul rai'\n",
    "for name in mystring:\n",
    "    print(name)"
   ]
  },
  {
   "cell_type": "code",
   "execution_count": 25,
   "id": "a90d7895",
   "metadata": {},
   "outputs": [
    {
     "name": "stdout",
     "output_type": "stream",
     "text": [
      "letter\n",
      "letter\n",
      "letter\n",
      "letter\n",
      "letter\n",
      "letter\n",
      "letter\n",
      "letter\n",
      "letter\n"
     ]
    }
   ],
   "source": [
    "for letter in 'sakul rai':\n",
    "    print('letter')"
   ]
  },
  {
   "cell_type": "code",
   "execution_count": 32,
   "id": "f3c65db7",
   "metadata": {},
   "outputs": [
    {
     "name": "stdout",
     "output_type": "stream",
     "text": [
      "happy\n",
      "happy\n",
      "happy\n",
      "happy\n",
      "happy\n",
      "happy\n",
      "happy\n",
      "happy\n",
      "happy\n"
     ]
    }
   ],
   "source": [
    "for _ in 'sakul rai':\n",
    "      print('happy')"
   ]
  },
  {
   "cell_type": "code",
   "execution_count": 33,
   "id": "16d27be5",
   "metadata": {},
   "outputs": [
    {
     "name": "stdout",
     "output_type": "stream",
     "text": [
      "1\n",
      "2\n",
      "3\n",
      "4\n"
     ]
    }
   ],
   "source": [
    "tup=[1,2,3,4]\n",
    "for item in tup:\n",
    "    print(item)"
   ]
  },
  {
   "cell_type": "code",
   "execution_count": 35,
   "id": "c6f32b5f",
   "metadata": {},
   "outputs": [
    {
     "name": "stdout",
     "output_type": "stream",
     "text": [
      "2\n",
      "2\n",
      "5\n",
      "2\n",
      "5\n"
     ]
    }
   ],
   "source": [
    "mylist=[(2,4),(2,6),(5,7),(2,5),(5,9)]\n",
    "for a,b in mylist:\n",
    "    print(a)\n",
    "    #print(b)"
   ]
  },
  {
   "cell_type": "code",
   "execution_count": 39,
   "id": "d7773497",
   "metadata": {},
   "outputs": [
    {
     "name": "stdout",
     "output_type": "stream",
     "text": [
      "4\n",
      "2\n",
      "6\n",
      "2\n",
      "7\n",
      "5\n",
      "5\n",
      "2\n",
      "9\n",
      "5\n"
     ]
    }
   ],
   "source": [
    "mylist=[(2,4),(2,6),(5,7),(2,5),(5,9)]\n",
    "for fv1,fv2 in mylist:\n",
    "    print(fv2)\n",
    "    print(fv1)"
   ]
  },
  {
   "cell_type": "code",
   "execution_count": 1,
   "id": "d28087c2",
   "metadata": {},
   "outputs": [
    {
     "name": "stdout",
     "output_type": "stream",
     "text": [
      "1\n",
      "2\n",
      "3\n"
     ]
    }
   ],
   "source": [
    "d={'k1':1,'k2':2,'k3':3}\n",
    "for item in d.values():\n",
    "    print(item)"
   ]
  },
  {
   "cell_type": "code",
   "execution_count": 1,
   "id": "24a0dec4",
   "metadata": {},
   "outputs": [],
   "source": [
    "#while loops in python"
   ]
  },
  {
   "cell_type": "code",
   "execution_count": 2,
   "id": "d34b74f0",
   "metadata": {},
   "outputs": [],
   "source": [
    "#while boolen_condition\n",
    "       #do something \n",
    "#else:\n",
    "      #do something else "
   ]
  },
  {
   "cell_type": "code",
   "execution_count": 3,
   "id": "c6bce8c6",
   "metadata": {},
   "outputs": [
    {
     "name": "stdout",
     "output_type": "stream",
     "text": [
      "the current value of x is 0\n",
      "the current value of x is 1\n",
      "the current value of x is 2\n",
      "the current value of x is 3\n",
      "the current value of x is 4\n",
      "x is not less than 5\n"
     ]
    }
   ],
   "source": [
    "x=0\n",
    "while x<5:\n",
    "    print(f'the current value of x is {x}')\n",
    "    #x=x+1\n",
    "    x+=1\n",
    "else:\n",
    "    print('x is not less than 5')"
   ]
  },
  {
   "cell_type": "code",
   "execution_count": 4,
   "id": "df2d518d",
   "metadata": {},
   "outputs": [],
   "source": [
    "#break,continue,pass"
   ]
  },
  {
   "cell_type": "code",
   "execution_count": 7,
   "id": "5c2e5f52",
   "metadata": {},
   "outputs": [],
   "source": [
    "#break:breaks out of the closest enclosing loop\n",
    "#continue:goes to the top of the closest enclosing loop\n",
    "#pass:it does nothing at all"
   ]
  },
  {
   "cell_type": "code",
   "execution_count": 9,
   "id": "1058ec0d",
   "metadata": {},
   "outputs": [
    {
     "name": "stdout",
     "output_type": "stream",
     "text": [
      "the end of my script\n"
     ]
    }
   ],
   "source": [
    "x=[1,2,3,4]\n",
    "for item in x:\n",
    "    #gsdgsd\n",
    "    pass\n",
    "print('the end of my script')"
   ]
  },
  {
   "cell_type": "code",
   "execution_count": 29,
   "id": "8dfecac7",
   "metadata": {},
   "outputs": [
    {
     "name": "stdout",
     "output_type": "stream",
     "text": [
      "s\n",
      "k\n",
      "u\n",
      "l\n",
      " \n",
      "r\n",
      "i\n"
     ]
    }
   ],
   "source": [
    "mystring='sakul rai'\n",
    "for letter in mystring:\n",
    "    if letter=='a':\n",
    "        continue\n",
    "    print(letter)"
   ]
  },
  {
   "cell_type": "code",
   "execution_count": 22,
   "id": "4cefd362",
   "metadata": {},
   "outputs": [
    {
     "name": "stdout",
     "output_type": "stream",
     "text": [
      "A\n",
      "p\n",
      "r\n"
     ]
    }
   ],
   "source": [
    "mystring= 'April'\n",
    "for letter in mystring:\n",
    "    if letter=='i':\n",
    "        break\n",
    "    print(letter)\n",
    "    "
   ]
  },
  {
   "cell_type": "code",
   "execution_count": 33,
   "id": "b299fdc1",
   "metadata": {},
   "outputs": [
    {
     "name": "stdout",
     "output_type": "stream",
     "text": [
      "0\n",
      "1\n"
     ]
    }
   ],
   "source": [
    "x=0\n",
    "while x<5:\n",
    "    if x==2:\n",
    "        break\n",
    "    print(x)\n",
    "    x+=1"
   ]
  },
  {
   "cell_type": "code",
   "execution_count": null,
   "id": "d2426ff2",
   "metadata": {},
   "outputs": [],
   "source": []
  }
 ],
 "metadata": {
  "kernelspec": {
   "display_name": "Python 3 (ipykernel)",
   "language": "python",
   "name": "python3"
  },
  "language_info": {
   "codemirror_mode": {
    "name": "ipython",
    "version": 3
   },
   "file_extension": ".py",
   "mimetype": "text/x-python",
   "name": "python",
   "nbconvert_exporter": "python",
   "pygments_lexer": "ipython3",
   "version": "3.10.9"
  }
 },
 "nbformat": 4,
 "nbformat_minor": 5
}
