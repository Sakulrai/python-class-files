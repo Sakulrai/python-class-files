{
 "cells": [
  {
   "cell_type": "code",
   "execution_count": 1,
   "id": "007ecbcc",
   "metadata": {},
   "outputs": [],
   "source": [
    "##LISTS"
   ]
  },
  {
   "cell_type": "code",
   "execution_count": 16,
   "id": "e0f8aa31",
   "metadata": {},
   "outputs": [],
   "source": [
    "my_lists=[1,2,3,4]"
   ]
  },
  {
   "cell_type": "code",
   "execution_count": 17,
   "id": "c3097151",
   "metadata": {},
   "outputs": [
    {
     "data": {
      "text/plain": [
       "[1, 2, 3, 4]"
      ]
     },
     "execution_count": 17,
     "metadata": {},
     "output_type": "execute_result"
    }
   ],
   "source": [
    "my_lists"
   ]
  },
  {
   "cell_type": "code",
   "execution_count": 7,
   "id": "13cc11b2",
   "metadata": {},
   "outputs": [],
   "source": [
    "mystring=\"hello\""
   ]
  },
  {
   "cell_type": "code",
   "execution_count": 8,
   "id": "35c2f86b",
   "metadata": {},
   "outputs": [
    {
     "data": {
      "text/plain": [
       "'hello'"
      ]
     },
     "execution_count": 8,
     "metadata": {},
     "output_type": "execute_result"
    }
   ],
   "source": [
    "mystring"
   ]
  },
  {
   "cell_type": "code",
   "execution_count": 9,
   "id": "a86398e2",
   "metadata": {},
   "outputs": [
    {
     "data": {
      "text/plain": [
       "['h', 'llo']"
      ]
     },
     "execution_count": 9,
     "metadata": {},
     "output_type": "execute_result"
    }
   ],
   "source": [
    "mystring.split('e')"
   ]
  },
  {
   "cell_type": "code",
   "execution_count": 19,
   "id": "802bf1fd",
   "metadata": {},
   "outputs": [
    {
     "data": {
      "text/plain": [
       "[1, 2, 3, 4]"
      ]
     },
     "execution_count": 19,
     "metadata": {},
     "output_type": "execute_result"
    }
   ],
   "source": [
    "my_lists"
   ]
  },
  {
   "cell_type": "code",
   "execution_count": 20,
   "id": "8a4999e7",
   "metadata": {},
   "outputs": [],
   "source": [
    "my_lists=[1,'string',23.2]"
   ]
  },
  {
   "cell_type": "code",
   "execution_count": 21,
   "id": "ae58b917",
   "metadata": {},
   "outputs": [
    {
     "data": {
      "text/plain": [
       "[1, 'string', 23.2]"
      ]
     },
     "execution_count": 21,
     "metadata": {},
     "output_type": "execute_result"
    }
   ],
   "source": [
    "my_lists"
   ]
  },
  {
   "cell_type": "code",
   "execution_count": 22,
   "id": "4bec13ea",
   "metadata": {},
   "outputs": [
    {
     "data": {
      "text/plain": [
       "3"
      ]
     },
     "execution_count": 22,
     "metadata": {},
     "output_type": "execute_result"
    }
   ],
   "source": [
    "len(my_lists)"
   ]
  },
  {
   "cell_type": "code",
   "execution_count": 23,
   "id": "3a57607c",
   "metadata": {},
   "outputs": [
    {
     "data": {
      "text/plain": [
       "'string'"
      ]
     },
     "execution_count": 23,
     "metadata": {},
     "output_type": "execute_result"
    }
   ],
   "source": [
    "my_lists[1]#indexing"
   ]
  },
  {
   "cell_type": "code",
   "execution_count": 24,
   "id": "d60039e1",
   "metadata": {},
   "outputs": [
    {
     "data": {
      "text/plain": [
       "['string', 23.2]"
      ]
     },
     "execution_count": 24,
     "metadata": {},
     "output_type": "execute_result"
    }
   ],
   "source": [
    "my_lists[1:]"
   ]
  },
  {
   "cell_type": "code",
   "execution_count": 25,
   "id": "3475e66a",
   "metadata": {},
   "outputs": [
    {
     "data": {
      "text/plain": [
       "[1, 'string']"
      ]
     },
     "execution_count": 25,
     "metadata": {},
     "output_type": "execute_result"
    }
   ],
   "source": [
    "my_lists[0:2]"
   ]
  },
  {
   "cell_type": "code",
   "execution_count": 26,
   "id": "385d7c16",
   "metadata": {},
   "outputs": [
    {
     "data": {
      "text/plain": [
       "[1, 'string', 23.2]"
      ]
     },
     "execution_count": 26,
     "metadata": {},
     "output_type": "execute_result"
    }
   ],
   "source": [
    "my_lists"
   ]
  },
  {
   "cell_type": "code",
   "execution_count": 27,
   "id": "1c9cf5b7",
   "metadata": {},
   "outputs": [],
   "source": [
    "second_lists=[4,5,'six']"
   ]
  },
  {
   "cell_type": "code",
   "execution_count": 28,
   "id": "82e1cfce",
   "metadata": {},
   "outputs": [],
   "source": [
    "new_lists=my_lists+second_lists"
   ]
  },
  {
   "cell_type": "code",
   "execution_count": 29,
   "id": "697c23a8",
   "metadata": {},
   "outputs": [
    {
     "data": {
      "text/plain": [
       "[1, 'string', 23.2, 4, 5, 'six']"
      ]
     },
     "execution_count": 29,
     "metadata": {},
     "output_type": "execute_result"
    }
   ],
   "source": [
    "new_lists"
   ]
  },
  {
   "cell_type": "code",
   "execution_count": 30,
   "id": "30fedbc1",
   "metadata": {},
   "outputs": [
    {
     "data": {
      "text/plain": [
       "[4, 5, 'six']"
      ]
     },
     "execution_count": 30,
     "metadata": {},
     "output_type": "execute_result"
    }
   ],
   "source": [
    "second_lists"
   ]
  },
  {
   "cell_type": "code",
   "execution_count": 31,
   "id": "6085a03e",
   "metadata": {},
   "outputs": [],
   "source": [
    "second_lists[0]='changed'"
   ]
  },
  {
   "cell_type": "code",
   "execution_count": 32,
   "id": "bf3af6c6",
   "metadata": {},
   "outputs": [
    {
     "data": {
      "text/plain": [
       "['changed', 5, 'six']"
      ]
     },
     "execution_count": 32,
     "metadata": {},
     "output_type": "execute_result"
    }
   ],
   "source": [
    "second_lists"
   ]
  },
  {
   "cell_type": "code",
   "execution_count": 33,
   "id": "8afaa0f6",
   "metadata": {},
   "outputs": [],
   "source": [
    "mstring='hello'"
   ]
  },
  {
   "cell_type": "code",
   "execution_count": 34,
   "id": "b66f98dd",
   "metadata": {},
   "outputs": [
    {
     "data": {
      "text/plain": [
       "'h'"
      ]
     },
     "execution_count": 34,
     "metadata": {},
     "output_type": "execute_result"
    }
   ],
   "source": [
    "mstring[0]"
   ]
  },
  {
   "cell_type": "code",
   "execution_count": 35,
   "id": "8fb88987",
   "metadata": {},
   "outputs": [
    {
     "ename": "TypeError",
     "evalue": "'str' object does not support item assignment",
     "output_type": "error",
     "traceback": [
      "\u001b[1;31m---------------------------------------------------------------------------\u001b[0m",
      "\u001b[1;31mTypeError\u001b[0m                                 Traceback (most recent call last)",
      "Cell \u001b[1;32mIn[35], line 1\u001b[0m\n\u001b[1;32m----> 1\u001b[0m mstring[\u001b[38;5;241m0\u001b[39m]\u001b[38;5;241m=\u001b[39m\u001b[38;5;124m'\u001b[39m\u001b[38;5;124mp\u001b[39m\u001b[38;5;124m'\u001b[39m\n",
      "\u001b[1;31mTypeError\u001b[0m: 'str' object does not support item assignment"
     ]
    }
   ],
   "source": [
    "mstring[0]='p'"
   ]
  },
  {
   "cell_type": "code",
   "execution_count": 36,
   "id": "39f0a73f",
   "metadata": {},
   "outputs": [],
   "source": [
    "newstring=mstring[1:]"
   ]
  },
  {
   "cell_type": "code",
   "execution_count": 37,
   "id": "05c7bda6",
   "metadata": {},
   "outputs": [
    {
     "data": {
      "text/plain": [
       "'ello'"
      ]
     },
     "execution_count": 37,
     "metadata": {},
     "output_type": "execute_result"
    }
   ],
   "source": [
    "newstring"
   ]
  },
  {
   "cell_type": "code",
   "execution_count": 38,
   "id": "65a1fcac",
   "metadata": {},
   "outputs": [],
   "source": [
    "new_word='p'+newstring"
   ]
  },
  {
   "cell_type": "code",
   "execution_count": 39,
   "id": "4765411f",
   "metadata": {},
   "outputs": [
    {
     "data": {
      "text/plain": [
       "'pello'"
      ]
     },
     "execution_count": 39,
     "metadata": {},
     "output_type": "execute_result"
    }
   ],
   "source": [
    "new_word"
   ]
  },
  {
   "cell_type": "code",
   "execution_count": 40,
   "id": "0c7d88ac",
   "metadata": {},
   "outputs": [
    {
     "data": {
      "text/plain": [
       "['changed', 5, 'six']"
      ]
     },
     "execution_count": 40,
     "metadata": {},
     "output_type": "execute_result"
    }
   ],
   "source": [
    "second_lists"
   ]
  },
  {
   "cell_type": "code",
   "execution_count": 41,
   "id": "a0ea6e8b",
   "metadata": {},
   "outputs": [],
   "source": [
    "second_lists.append('seven')"
   ]
  },
  {
   "cell_type": "code",
   "execution_count": 42,
   "id": "d7cff573",
   "metadata": {},
   "outputs": [
    {
     "data": {
      "text/plain": [
       "['changed', 5, 'six', 'seven']"
      ]
     },
     "execution_count": 42,
     "metadata": {},
     "output_type": "execute_result"
    }
   ],
   "source": [
    "second_lists"
   ]
  },
  {
   "cell_type": "code",
   "execution_count": 43,
   "id": "6bac9887",
   "metadata": {},
   "outputs": [
    {
     "data": {
      "text/plain": [
       "'six'"
      ]
     },
     "execution_count": 43,
     "metadata": {},
     "output_type": "execute_result"
    }
   ],
   "source": [
    "second_lists.pop(2)"
   ]
  },
  {
   "cell_type": "code",
   "execution_count": 44,
   "id": "e7a516b3",
   "metadata": {},
   "outputs": [
    {
     "data": {
      "text/plain": [
       "['changed', 5, 'seven']"
      ]
     },
     "execution_count": 44,
     "metadata": {},
     "output_type": "execute_result"
    }
   ],
   "source": [
    "second_lists"
   ]
  },
  {
   "cell_type": "code",
   "execution_count": 46,
   "id": "ac08c3d3",
   "metadata": {},
   "outputs": [
    {
     "data": {
      "text/plain": [
       "[1, 'string', 23.2, 4, 5, 'six']"
      ]
     },
     "execution_count": 46,
     "metadata": {},
     "output_type": "execute_result"
    }
   ],
   "source": [
    "new_lists"
   ]
  },
  {
   "cell_type": "code",
   "execution_count": 48,
   "id": "1815945b",
   "metadata": {},
   "outputs": [
    {
     "data": {
      "text/plain": [
       "5"
      ]
     },
     "execution_count": 48,
     "metadata": {},
     "output_type": "execute_result"
    }
   ],
   "source": [
    "new_lists[-2]"
   ]
  },
  {
   "cell_type": "code",
   "execution_count": 52,
   "id": "057eb25b",
   "metadata": {},
   "outputs": [],
   "source": [
    "new_lists=['a','x','c','z','b']\n",
    "num_lists=[5,7,1,2,8]"
   ]
  },
  {
   "cell_type": "code",
   "execution_count": 53,
   "id": "c6414528",
   "metadata": {},
   "outputs": [],
   "source": [
    "num_lists.sort()"
   ]
  },
  {
   "cell_type": "code",
   "execution_count": 54,
   "id": "d4ea8b38",
   "metadata": {},
   "outputs": [],
   "source": [
    "sorted_lists=num_lists"
   ]
  },
  {
   "cell_type": "code",
   "execution_count": 55,
   "id": "1bd92ea2",
   "metadata": {},
   "outputs": [
    {
     "data": {
      "text/plain": [
       "[1, 2, 5, 7, 8]"
      ]
     },
     "execution_count": 55,
     "metadata": {},
     "output_type": "execute_result"
    }
   ],
   "source": [
    "sorted_lists"
   ]
  },
  {
   "cell_type": "code",
   "execution_count": 56,
   "id": "c1cca6c3",
   "metadata": {},
   "outputs": [],
   "source": [
    "new_lists.reverse()"
   ]
  },
  {
   "cell_type": "code",
   "execution_count": 60,
   "id": "c842bf59",
   "metadata": {},
   "outputs": [],
   "source": [
    "reversed_lists=new_lists"
   ]
  },
  {
   "cell_type": "code",
   "execution_count": 61,
   "id": "68366167",
   "metadata": {},
   "outputs": [
    {
     "data": {
      "text/plain": [
       "['b', 'z', 'c', 'x', 'a']"
      ]
     },
     "execution_count": 61,
     "metadata": {},
     "output_type": "execute_result"
    }
   ],
   "source": [
    "reversed_lists"
   ]
  },
  {
   "cell_type": "code",
   "execution_count": 65,
   "id": "71e736cf",
   "metadata": {},
   "outputs": [],
   "source": [
    "b=None"
   ]
  },
  {
   "cell_type": "code",
   "execution_count": 66,
   "id": "2def7420",
   "metadata": {},
   "outputs": [],
   "source": [
    "my_lists=[5,1,[1,2]]"
   ]
  },
  {
   "cell_type": "code",
   "execution_count": 67,
   "id": "8f399a1b",
   "metadata": {},
   "outputs": [
    {
     "data": {
      "text/plain": [
       "[5, 1, [1, 2]]"
      ]
     },
     "execution_count": 67,
     "metadata": {},
     "output_type": "execute_result"
    }
   ],
   "source": [
    "my_lists"
   ]
  },
  {
   "cell_type": "code",
   "execution_count": 68,
   "id": "b2cf280f",
   "metadata": {},
   "outputs": [
    {
     "data": {
      "text/plain": [
       "5"
      ]
     },
     "execution_count": 68,
     "metadata": {},
     "output_type": "execute_result"
    }
   ],
   "source": [
    "my_lists[0]"
   ]
  },
  {
   "cell_type": "code",
   "execution_count": 69,
   "id": "71cb9345",
   "metadata": {},
   "outputs": [
    {
     "data": {
      "text/plain": [
       "2"
      ]
     },
     "execution_count": 69,
     "metadata": {},
     "output_type": "execute_result"
    }
   ],
   "source": [
    "my_lists[2][1]"
   ]
  },
  {
   "cell_type": "code",
   "execution_count": 70,
   "id": "8411dc33",
   "metadata": {},
   "outputs": [],
   "source": [
    "#if lst=[0,1,2] what is the reuslt of klists.pop()"
   ]
  },
  {
   "cell_type": "code",
   "execution_count": 73,
   "id": "467ea083",
   "metadata": {},
   "outputs": [
    {
     "data": {
      "text/plain": [
       "2"
      ]
     },
     "execution_count": 73,
     "metadata": {},
     "output_type": "execute_result"
    }
   ],
   "source": [
    "lst=[0,1,2]\n",
    "lst.pop()"
   ]
  },
  {
   "cell_type": "code",
   "execution_count": 74,
   "id": "cb6d0a9c",
   "metadata": {},
   "outputs": [
    {
     "data": {
      "text/plain": [
       "[0, 1]"
      ]
     },
     "execution_count": 74,
     "metadata": {},
     "output_type": "execute_result"
    }
   ],
   "source": [
    "lst"
   ]
  },
  {
   "cell_type": "code",
   "execution_count": 75,
   "id": "468a3ab0",
   "metadata": {},
   "outputs": [],
   "source": [
    "#if lst=['a','b','c']what is the result of lst[1:]"
   ]
  },
  {
   "cell_type": "code",
   "execution_count": 77,
   "id": "a2f53c32",
   "metadata": {},
   "outputs": [],
   "source": [
    "#dictionaries"
   ]
  },
  {
   "cell_type": "code",
   "execution_count": 87,
   "id": "0fc81fa7",
   "metadata": {},
   "outputs": [],
   "source": [
    "my_dict={'key1':'value1','key2':'value2'}"
   ]
  },
  {
   "cell_type": "code",
   "execution_count": 88,
   "id": "73130118",
   "metadata": {},
   "outputs": [
    {
     "data": {
      "text/plain": [
       "{'key1': 'value1', 'key2': 'value2'}"
      ]
     },
     "execution_count": 88,
     "metadata": {},
     "output_type": "execute_result"
    }
   ],
   "source": [
    "my_dict"
   ]
  },
  {
   "cell_type": "code",
   "execution_count": 89,
   "id": "0a26a542",
   "metadata": {},
   "outputs": [
    {
     "data": {
      "text/plain": [
       "{'key1': 'value1', 'key2': 'value2'}"
      ]
     },
     "execution_count": 89,
     "metadata": {},
     "output_type": "execute_result"
    }
   ],
   "source": [
    "my_dict"
   ]
  },
  {
   "cell_type": "code",
   "execution_count": 90,
   "id": "04942daa",
   "metadata": {},
   "outputs": [
    {
     "data": {
      "text/plain": [
       "'value1'"
      ]
     },
     "execution_count": 90,
     "metadata": {},
     "output_type": "execute_result"
    }
   ],
   "source": [
    "my_dict['key1']"
   ]
  },
  {
   "cell_type": "code",
   "execution_count": 91,
   "id": "1f437be8",
   "metadata": {},
   "outputs": [],
   "source": [
    "price_lookup={'apple':200,'banana':90,'mango':100}"
   ]
  },
  {
   "cell_type": "code",
   "execution_count": 94,
   "id": "acc68c7b",
   "metadata": {},
   "outputs": [
    {
     "data": {
      "text/plain": [
       "{'apple': 200, 'banana': 90, 'mango': 100}"
      ]
     },
     "execution_count": 94,
     "metadata": {},
     "output_type": "execute_result"
    }
   ],
   "source": [
    "price_lookup"
   ]
  },
  {
   "cell_type": "code",
   "execution_count": 95,
   "id": "3fb41410",
   "metadata": {},
   "outputs": [
    {
     "data": {
      "text/plain": [
       "200"
      ]
     },
     "execution_count": 95,
     "metadata": {},
     "output_type": "execute_result"
    }
   ],
   "source": [
    "price_lookup['apple']"
   ]
  },
  {
   "cell_type": "code",
   "execution_count": 96,
   "id": "cff592f8",
   "metadata": {},
   "outputs": [
    {
     "data": {
      "text/plain": [
       "100"
      ]
     },
     "execution_count": 96,
     "metadata": {},
     "output_type": "execute_result"
    }
   ],
   "source": [
    "price_lookup['mango']"
   ]
  },
  {
   "cell_type": "code",
   "execution_count": 99,
   "id": "e92ef1f8",
   "metadata": {},
   "outputs": [
    {
     "ename": "SyntaxError",
     "evalue": "':' expected after dictionary key (3026542128.py, line 1)",
     "output_type": "error",
     "traceback": [
      "\u001b[1;36m  Cell \u001b[1;32mIn[99], line 1\u001b[1;36m\u001b[0m\n\u001b[1;33m    d={'k1':100,'k2':[1,2,3],'k3'{'inside_key':400}}\u001b[0m\n\u001b[1;37m                                ^\u001b[0m\n\u001b[1;31mSyntaxError\u001b[0m\u001b[1;31m:\u001b[0m ':' expected after dictionary key\n"
     ]
    }
   ],
   "source": [
    "d={'k1':100,'k2':[1,2,3],'k3'{'inside_key':400}}"
   ]
  },
  {
   "cell_type": "code",
   "execution_count": null,
   "id": "a2ee99b1",
   "metadata": {},
   "outputs": [],
   "source": []
  }
 ],
 "metadata": {
  "kernelspec": {
   "display_name": "Python 3 (ipykernel)",
   "language": "python",
   "name": "python3"
  },
  "language_info": {
   "codemirror_mode": {
    "name": "ipython",
    "version": 3
   },
   "file_extension": ".py",
   "mimetype": "text/x-python",
   "name": "python",
   "nbconvert_exporter": "python",
   "pygments_lexer": "ipython3",
   "version": "3.10.9"
  }
 },
 "nbformat": 4,
 "nbformat_minor": 5
}
