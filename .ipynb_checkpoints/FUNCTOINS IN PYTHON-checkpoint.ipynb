{
 "cells": [
  {
   "cell_type": "code",
   "execution_count": 1,
   "id": "b30b60be",
   "metadata": {},
   "outputs": [],
   "source": [
    "#methods in python"
   ]
  },
  {
   "cell_type": "code",
   "execution_count": 3,
   "id": "1c38f6ca",
   "metadata": {},
   "outputs": [],
   "source": [
    "mylist=[1,2,3]\n",
    "mylist.append(4)"
   ]
  },
  {
   "cell_type": "code",
   "execution_count": 4,
   "id": "db3adc5f",
   "metadata": {},
   "outputs": [
    {
     "data": {
      "text/plain": [
       "[1, 2, 3, 4]"
      ]
     },
     "execution_count": 4,
     "metadata": {},
     "output_type": "execute_result"
    }
   ],
   "source": [
    "mylist"
   ]
  },
  {
   "cell_type": "code",
   "execution_count": 7,
   "id": "036919ff",
   "metadata": {},
   "outputs": [
    {
     "data": {
      "text/plain": [
       "4"
      ]
     },
     "execution_count": 7,
     "metadata": {},
     "output_type": "execute_result"
    }
   ],
   "source": [
    "mylist.pop()"
   ]
  },
  {
   "cell_type": "code",
   "execution_count": 9,
   "id": "8bb04592",
   "metadata": {},
   "outputs": [
    {
     "data": {
      "text/plain": [
       "[1, 2, 3]"
      ]
     },
     "execution_count": 9,
     "metadata": {},
     "output_type": "execute_result"
    }
   ],
   "source": [
    "mylist"
   ]
  },
  {
   "cell_type": "code",
   "execution_count": null,
   "id": "a2857819",
   "metadata": {},
   "outputs": [],
   "source": [
    "#docs.python in learn deeply!"
   ]
  },
  {
   "cell_type": "code",
   "execution_count": 10,
   "id": "5b204148",
   "metadata": {},
   "outputs": [
    {
     "name": "stdout",
     "output_type": "stream",
     "text": [
      "Help on built-in function insert:\n",
      "\n",
      "insert(index, object, /) method of builtins.list instance\n",
      "    Insert object before index.\n",
      "\n"
     ]
    }
   ],
   "source": [
    "help(mylist.insert)\n"
   ]
  },
  {
   "cell_type": "code",
   "execution_count": 1,
   "id": "7e23469f",
   "metadata": {},
   "outputs": [],
   "source": [
    "#def keyword"
   ]
  },
  {
   "cell_type": "code",
   "execution_count": 3,
   "id": "16af4ad2",
   "metadata": {},
   "outputs": [],
   "source": [
    "def name_of_function():\n",
    "    '''\n",
    "    Docstring explains function\n",
    "    '''\n",
    "    print('hello bca')"
   ]
  },
  {
   "cell_type": "code",
   "execution_count": 8,
   "id": "5add5f48",
   "metadata": {},
   "outputs": [
    {
     "name": "stdout",
     "output_type": "stream",
     "text": [
      "hello bca\n"
     ]
    }
   ],
   "source": [
    "name_of_function()"
   ]
  },
  {
   "cell_type": "code",
   "execution_count": 9,
   "id": "350bf380",
   "metadata": {},
   "outputs": [],
   "source": [
    "def arg_name(name):\n",
    "    print(f'hello my name is {name}')"
   ]
  },
  {
   "cell_type": "code",
   "execution_count": 10,
   "id": "fc9167a4",
   "metadata": {},
   "outputs": [
    {
     "name": "stdout",
     "output_type": "stream",
     "text": [
      "hello my name is sakul\n"
     ]
    }
   ],
   "source": [
    "name=arg_name('sakul')"
   ]
  },
  {
   "cell_type": "code",
   "execution_count": 1,
   "id": "194627e7",
   "metadata": {},
   "outputs": [],
   "source": [
    "def add_function (num1,num2):\n",
    "    return num1+num2"
   ]
  },
  {
   "cell_type": "raw",
   "id": "a03b3b4d",
   "metadata": {},
   "source": []
  }
 ],
 "metadata": {
  "kernelspec": {
   "display_name": "Python 3 (ipykernel)",
   "language": "python",
   "name": "python3"
  },
  "language_info": {
   "codemirror_mode": {
    "name": "ipython",
    "version": 3
   },
   "file_extension": ".py",
   "mimetype": "text/x-python",
   "name": "python",
   "nbconvert_exporter": "python",
   "pygments_lexer": "ipython3",
   "version": "3.10.9"
  }
 },
 "nbformat": 4,
 "nbformat_minor": 5
}
