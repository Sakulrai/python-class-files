{
 "cells": [
  {
   "cell_type": "code",
   "execution_count": 1,
   "id": "d753c01d",
   "metadata": {},
   "outputs": [],
   "source": [
    "mylist=[1,2,3,4,5,6,7,8,9,10]\n"
   ]
  },
  {
   "cell_type": "code",
   "execution_count": 2,
   "id": "69e8060b",
   "metadata": {},
   "outputs": [
    {
     "name": "stdout",
     "output_type": "stream",
     "text": [
      "0\n",
      "1\n",
      "2\n",
      "3\n",
      "4\n",
      "5\n",
      "6\n",
      "7\n",
      "8\n",
      "9\n"
     ]
    }
   ],
   "source": [
    "for num in range (0,10):\n",
    "    print(num)"
   ]
  },
  {
   "cell_type": "code",
   "execution_count": 3,
   "id": "3e60c476",
   "metadata": {},
   "outputs": [
    {
     "data": {
      "text/plain": [
       "[0, 1, 2, 3, 4, 5, 6, 7, 8, 9]"
      ]
     },
     "execution_count": 3,
     "metadata": {},
     "output_type": "execute_result"
    }
   ],
   "source": [
    "list(range(0,10))"
   ]
  },
  {
   "cell_type": "code",
   "execution_count": 4,
   "id": "d4bca5c3",
   "metadata": {},
   "outputs": [
    {
     "name": "stdout",
     "output_type": "stream",
     "text": [
      "2\n",
      "3\n",
      "4\n",
      "5\n",
      "6\n",
      "7\n",
      "8\n",
      "9\n"
     ]
    }
   ],
   "source": [
    "for num in range (2,10):\n",
    "    print(num)"
   ]
  },
  {
   "cell_type": "code",
   "execution_count": 5,
   "id": "6ab2e305",
   "metadata": {},
   "outputs": [
    {
     "name": "stdout",
     "output_type": "stream",
     "text": [
      "3\n",
      "4\n",
      "5\n",
      "6\n",
      "7\n",
      "8\n",
      "9\n"
     ]
    }
   ],
   "source": [
    "for num in range (3,10):\n",
    "    print(num)"
   ]
  },
  {
   "cell_type": "code",
   "execution_count": 6,
   "id": "e50d03ef",
   "metadata": {},
   "outputs": [
    {
     "name": "stdout",
     "output_type": "stream",
     "text": [
      "0\n",
      "2\n",
      "4\n",
      "6\n",
      "8\n",
      "10\n"
     ]
    }
   ],
   "source": [
    "for num in range (0,11,2):\n",
    "    print(num)"
   ]
  },
  {
   "cell_type": "code",
   "execution_count": 8,
   "id": "2e07f251",
   "metadata": {},
   "outputs": [],
   "source": [
    "#enumerate"
   ]
  },
  {
   "cell_type": "code",
   "execution_count": 12,
   "id": "d0e90a90",
   "metadata": {},
   "outputs": [
    {
     "name": "stdout",
     "output_type": "stream",
     "text": [
      "at index 0the letter is a\n",
      "at index 1the letter is b\n",
      "at index 2the letter is c\n",
      "at index 3the letter is d\n",
      "at index 4the letter is e\n"
     ]
    }
   ],
   "source": [
    "index_count=0\n",
    "for letter in 'abcde':\n",
    "    print('at index {}the letter is {}'.format(index_count,letter))\n",
    "    index_count +=1"
   ]
  },
  {
   "cell_type": "code",
   "execution_count": 16,
   "id": "ab112698",
   "metadata": {},
   "outputs": [
    {
     "name": "stdout",
     "output_type": "stream",
     "text": [
      "(0, 'a')\n",
      "e\n",
      "\n",
      "\n",
      "(1, 'b')\n",
      "e\n",
      "\n",
      "\n",
      "(2, 'c')\n",
      "e\n",
      "\n",
      "\n",
      "(3, 'd')\n",
      "e\n",
      "\n",
      "\n",
      "(4, 'e')\n",
      "e\n",
      "\n",
      "\n"
     ]
    }
   ],
   "source": [
    "word='abcde'\n",
    "for index in enumerate(word):\n",
    "    print(index)\n",
    "    print(letter)\n",
    "    print('\\n')"
   ]
  },
  {
   "cell_type": "code",
   "execution_count": 17,
   "id": "9d9f8383",
   "metadata": {},
   "outputs": [],
   "source": [
    "#zip function"
   ]
  },
  {
   "cell_type": "code",
   "execution_count": 21,
   "id": "9aa907dc",
   "metadata": {},
   "outputs": [
    {
     "name": "stdout",
     "output_type": "stream",
     "text": [
      "('a', 1)\n",
      "('b', 2)\n",
      "('c', 3)\n"
     ]
    }
   ],
   "source": [
    "mylist1= ['a','b','c']\n",
    "mylist2= [1,2,3]\n",
    "for item in zip(mylist1,mylist2):\n",
    "    print(item)"
   ]
  },
  {
   "cell_type": "code",
   "execution_count": 29,
   "id": "6d1c15dc",
   "metadata": {},
   "outputs": [
    {
     "name": "stdout",
     "output_type": "stream",
     "text": [
      "a\n",
      "1\n",
      "b\n",
      "2\n",
      "c\n",
      "3\n"
     ]
    }
   ],
   "source": [
    "mylist1= ['a','b','c']\n",
    "mylist2= [1,2,3]\n",
    "for l1,l2 in zip(mylist1,mylist2):\n",
    "        print(l1)\n",
    "        print(l2)"
   ]
  },
  {
   "cell_type": "code",
   "execution_count": 30,
   "id": "af2cc443",
   "metadata": {},
   "outputs": [
    {
     "data": {
      "text/plain": [
       "[('a', 1), ('b', 2), ('c', 3)]"
      ]
     },
     "execution_count": 30,
     "metadata": {},
     "output_type": "execute_result"
    }
   ],
   "source": [
    "mylist1= ['a','b','c']\n",
    "mylist2= [1,2,3,4,5]\n",
    "list(zip(mylist1,mylist2))"
   ]
  },
  {
   "cell_type": "code",
   "execution_count": 31,
   "id": "64a6ce87",
   "metadata": {},
   "outputs": [
    {
     "name": "stdout",
     "output_type": "stream",
     "text": [
      "('a', 1, 11)\n",
      "('b', 2, 22)\n",
      "('c', 3, 33)\n"
     ]
    }
   ],
   "source": [
    "mylist1= ['a','b','c']\n",
    "mylist2= [1,2,3,4,5]\n",
    "mylist3= [11,22,33]\n",
    "for item in zip(mylist1,mylist2,mylist3):\n",
    "    print(item)"
   ]
  },
  {
   "cell_type": "code",
   "execution_count": 32,
   "id": "c5114a75",
   "metadata": {},
   "outputs": [
    {
     "name": "stdout",
     "output_type": "stream",
     "text": [
      "11\n",
      "22\n",
      "33\n",
      "11\n",
      "22\n",
      "33\n",
      "11\n",
      "22\n",
      "33\n"
     ]
    }
   ],
   "source": [
    "mylist1= ['a','b','c']\n",
    "mylist2= [1,2,3,4,5]\n",
    "mylist3= [11,22,33]\n",
    "for item in zip(mylist1,mylist2,mylist3):\n",
    "    print(11)\n",
    "    print(22)\n",
    "    print(33)"
   ]
  },
  {
   "cell_type": "code",
   "execution_count": 33,
   "id": "2d9fc8bf",
   "metadata": {},
   "outputs": [],
   "source": [
    "#in keyword"
   ]
  },
  {
   "cell_type": "code",
   "execution_count": 34,
   "id": "3725f093",
   "metadata": {},
   "outputs": [
    {
     "data": {
      "text/plain": [
       "False"
      ]
     },
     "execution_count": 34,
     "metadata": {},
     "output_type": "execute_result"
    }
   ],
   "source": [
    "'x' in [1,2,3]"
   ]
  },
  {
   "cell_type": "code",
   "execution_count": 35,
   "id": "5b397588",
   "metadata": {},
   "outputs": [
    {
     "data": {
      "text/plain": [
       "True"
      ]
     },
     "execution_count": 35,
     "metadata": {},
     "output_type": "execute_result"
    }
   ],
   "source": [
    "'x' in ['x','y','z']"
   ]
  },
  {
   "cell_type": "code",
   "execution_count": 43,
   "id": "ff53babd",
   "metadata": {},
   "outputs": [
    {
     "data": {
      "text/plain": [
       "True"
      ]
     },
     "execution_count": 43,
     "metadata": {},
     "output_type": "execute_result"
    }
   ],
   "source": [
    "'mykey'in {'mykey':1}"
   ]
  },
  {
   "cell_type": "code",
   "execution_count": null,
   "id": "dceb5bd9",
   "metadata": {},
   "outputs": [],
   "source": [
    "#min,max"
   ]
  },
  {
   "cell_type": "code",
   "execution_count": 44,
   "id": "b2804245",
   "metadata": {},
   "outputs": [
    {
     "data": {
      "text/plain": [
       "12"
      ]
     },
     "execution_count": 44,
     "metadata": {},
     "output_type": "execute_result"
    }
   ],
   "source": [
    "mylist=[12,23,34,56,67,68]\n",
    "min(mylist)"
   ]
  },
  {
   "cell_type": "code",
   "execution_count": 45,
   "id": "dffbe97d",
   "metadata": {},
   "outputs": [
    {
     "data": {
      "text/plain": [
       "68"
      ]
     },
     "execution_count": 45,
     "metadata": {},
     "output_type": "execute_result"
    }
   ],
   "source": [
    "max(mylist)"
   ]
  },
  {
   "cell_type": "code",
   "execution_count": 46,
   "id": "9d21bca1",
   "metadata": {},
   "outputs": [],
   "source": [
    "#random library"
   ]
  },
  {
   "cell_type": "code",
   "execution_count": 53,
   "id": "cefe5365",
   "metadata": {},
   "outputs": [],
   "source": [
    "from random import shuffle\n",
    "mylsit= [1,2,3,4,5,6,7,8]\n",
    "shuffle(mylist)\n",
    "rd1 = mylist "
   ]
  },
  {
   "cell_type": "code",
   "execution_count": 54,
   "id": "7c70d8d1",
   "metadata": {},
   "outputs": [
    {
     "data": {
      "text/plain": [
       "[67, 68, 23, 12, 56, 34]"
      ]
     },
     "execution_count": 54,
     "metadata": {},
     "output_type": "execute_result"
    }
   ],
   "source": [
    "rd1"
   ]
  },
  {
   "cell_type": "code",
   "execution_count": 55,
   "id": "de1ec638",
   "metadata": {},
   "outputs": [
    {
     "data": {
      "text/plain": [
       "9"
      ]
     },
     "execution_count": 55,
     "metadata": {},
     "output_type": "execute_result"
    }
   ],
   "source": [
    "from random import randint\n",
    "randint(0,10)"
   ]
  },
  {
   "cell_type": "code",
   "execution_count": 56,
   "id": "ffce9d4c",
   "metadata": {},
   "outputs": [
    {
     "data": {
      "text/plain": [
       "72"
      ]
     },
     "execution_count": 56,
     "metadata": {},
     "output_type": "execute_result"
    }
   ],
   "source": [
    "randint(0,100)"
   ]
  },
  {
   "cell_type": "code",
   "execution_count": 57,
   "id": "3f04c5ae",
   "metadata": {},
   "outputs": [
    {
     "data": {
      "text/plain": [
       "96"
      ]
     },
     "execution_count": 57,
     "metadata": {},
     "output_type": "execute_result"
    }
   ],
   "source": [
    "randint(0,200)"
   ]
  },
  {
   "cell_type": "code",
   "execution_count": 58,
   "id": "069034b5",
   "metadata": {},
   "outputs": [],
   "source": [
    "my_num = randint(0,50)"
   ]
  },
  {
   "cell_type": "code",
   "execution_count": 59,
   "id": "51343446",
   "metadata": {},
   "outputs": [
    {
     "data": {
      "text/plain": [
       "28"
      ]
     },
     "execution_count": 59,
     "metadata": {},
     "output_type": "execute_result"
    }
   ],
   "source": [
    "my_num"
   ]
  },
  {
   "cell_type": "code",
   "execution_count": 60,
   "id": "b0e6bda4",
   "metadata": {},
   "outputs": [],
   "source": [
    "#input()"
   ]
  },
  {
   "cell_type": "code",
   "execution_count": 61,
   "id": "bf5441cf",
   "metadata": {},
   "outputs": [
    {
     "name": "stdout",
     "output_type": "stream",
     "text": [
      "enter a number here22\n"
     ]
    },
    {
     "data": {
      "text/plain": [
       "'22'"
      ]
     },
     "execution_count": 61,
     "metadata": {},
     "output_type": "execute_result"
    }
   ],
   "source": [
    "input('enter a number here')"
   ]
  },
  {
   "cell_type": "code",
   "execution_count": 62,
   "id": "7eae7104",
   "metadata": {},
   "outputs": [
    {
     "name": "stdout",
     "output_type": "stream",
     "text": [
      "what is your favourit color?22\n"
     ]
    },
    {
     "data": {
      "text/plain": [
       "22"
      ]
     },
     "execution_count": 62,
     "metadata": {},
     "output_type": "execute_result"
    }
   ],
   "source": [
    "int(input('what is your favourit color?'))"
   ]
  },
  {
   "cell_type": "code",
   "execution_count": 64,
   "id": "8d45de57",
   "metadata": {},
   "outputs": [
    {
     "name": "stdout",
     "output_type": "stream",
     "text": [
      "enter your favourite no 22\n"
     ]
    }
   ],
   "source": [
    "result=int(input('enter your favourite no '))"
   ]
  },
  {
   "cell_type": "code",
   "execution_count": 65,
   "id": "b04cb674",
   "metadata": {},
   "outputs": [
    {
     "data": {
      "text/plain": [
       "22"
      ]
     },
     "execution_count": 65,
     "metadata": {},
     "output_type": "execute_result"
    }
   ],
   "source": [
    "result"
   ]
  },
  {
   "cell_type": "code",
   "execution_count": 66,
   "id": "7d129766",
   "metadata": {},
   "outputs": [
    {
     "data": {
      "text/plain": [
       "int"
      ]
     },
     "execution_count": 66,
     "metadata": {},
     "output_type": "execute_result"
    }
   ],
   "source": [
    "type(result)"
   ]
  },
  {
   "cell_type": "code",
   "execution_count": 67,
   "id": "ae4b3bbb",
   "metadata": {},
   "outputs": [
    {
     "name": "stdout",
     "output_type": "stream",
     "text": [
      "enter 1st number44\n",
      "enter second number343\n",
      "387.0\n"
     ]
    }
   ],
   "source": [
    "number=float(input('enter 1st number'))\n",
    "number_two=float(input('enter second number'))\n",
    "result=number+number_two\n",
    "print(result)"
   ]
  },
  {
   "cell_type": "code",
   "execution_count": 1,
   "id": "91903f0c",
   "metadata": {},
   "outputs": [],
   "source": [
    "#list comprehensions in python"
   ]
  },
  {
   "cell_type": "code",
   "execution_count": 6,
   "id": "9014fa43",
   "metadata": {},
   "outputs": [],
   "source": [
    "mystring='Hello'\n",
    "mylist =[]\n",
    "for letter in mystring:\n",
    "    mylist.append(letter)"
   ]
  },
  {
   "cell_type": "code",
   "execution_count": 8,
   "id": "35a75346",
   "metadata": {},
   "outputs": [
    {
     "data": {
      "text/plain": [
       "['H', 'e', 'l', 'l', 'o']"
      ]
     },
     "execution_count": 8,
     "metadata": {},
     "output_type": "execute_result"
    }
   ],
   "source": [
    "mylist"
   ]
  },
  {
   "cell_type": "code",
   "execution_count": 9,
   "id": "feae64c8",
   "metadata": {},
   "outputs": [],
   "source": [
    "mystring='hello'\n",
    "mylist=[letter for letter in mystring]"
   ]
  },
  {
   "cell_type": "code",
   "execution_count": 10,
   "id": "f99f4558",
   "metadata": {},
   "outputs": [
    {
     "data": {
      "text/plain": [
       "['h', 'e', 'l', 'l', 'o']"
      ]
     },
     "execution_count": 10,
     "metadata": {},
     "output_type": "execute_result"
    }
   ],
   "source": [
    "mylist"
   ]
  },
  {
   "cell_type": "code",
   "execution_count": 12,
   "id": "085a9b18",
   "metadata": {},
   "outputs": [],
   "source": [
    "mylist=[x for x in 'sakul rai']"
   ]
  },
  {
   "cell_type": "code",
   "execution_count": 13,
   "id": "140f73b5",
   "metadata": {},
   "outputs": [
    {
     "data": {
      "text/plain": [
       "['s', 'a', 'k', 'u', 'l', ' ', 'r', 'a', 'i']"
      ]
     },
     "execution_count": 13,
     "metadata": {},
     "output_type": "execute_result"
    }
   ],
   "source": [
    "mylist"
   ]
  },
  {
   "cell_type": "code",
   "execution_count": 14,
   "id": "bd0878e6",
   "metadata": {},
   "outputs": [],
   "source": [
    "mynum=[num**2 for num in range(0,12)]"
   ]
  },
  {
   "cell_type": "code",
   "execution_count": 15,
   "id": "164f3bc8",
   "metadata": {},
   "outputs": [
    {
     "data": {
      "text/plain": [
       "[0, 1, 4, 9, 16, 25, 36, 49, 64, 81, 100, 121]"
      ]
     },
     "execution_count": 15,
     "metadata": {},
     "output_type": "execute_result"
    }
   ],
   "source": [
    "mynum"
   ]
  },
  {
   "cell_type": "code",
   "execution_count": 16,
   "id": "a4032674",
   "metadata": {},
   "outputs": [],
   "source": [
    "myeven=[u for u in range (0,12)if u%2==0]"
   ]
  },
  {
   "cell_type": "code",
   "execution_count": 17,
   "id": "5d7e1b8b",
   "metadata": {},
   "outputs": [
    {
     "data": {
      "text/plain": [
       "[0, 2, 4, 6, 8, 10]"
      ]
     },
     "execution_count": 17,
     "metadata": {},
     "output_type": "execute_result"
    }
   ],
   "source": [
    "myeven"
   ]
  },
  {
   "cell_type": "code",
   "execution_count": 20,
   "id": "246cb1da",
   "metadata": {},
   "outputs": [],
   "source": [
    "calcius=[2,34,24,13,45,34,56]\n",
    "fahrenheit=[((9/5)*temp+32)for temp in calcius]"
   ]
  },
  {
   "cell_type": "code",
   "execution_count": 21,
   "id": "f0d4cd33",
   "metadata": {},
   "outputs": [
    {
     "data": {
      "text/plain": [
       "[35.6, 93.2, 75.2, 55.400000000000006, 113.0, 93.2, 132.8]"
      ]
     },
     "execution_count": 21,
     "metadata": {},
     "output_type": "execute_result"
    }
   ],
   "source": [
    "fahrenheit"
   ]
  },
  {
   "cell_type": "code",
   "execution_count": 22,
   "id": "b18533e9",
   "metadata": {},
   "outputs": [
    {
     "name": "stdout",
     "output_type": "stream",
     "text": [
      "[35.6]\n",
      "[35.6, 39.2]\n",
      "[35.6, 39.2, 37.4]\n",
      "[35.6, 39.2, 37.4, 41.0]\n",
      "[35.6, 39.2, 37.4, 41.0, 75.2]\n",
      "[35.6, 39.2, 37.4, 41.0, 75.2, 113.0]\n",
      "[35.6, 39.2, 37.4, 41.0, 75.2, 113.0, 96.8]\n"
     ]
    }
   ],
   "source": [
    "calcius=[2,4,3,5,24,45,36]\n",
    "fahrenheit=[]\n",
    "for temp in calcius:\n",
    "    fahrenheit.append((9/5)*temp+32)\n",
    "    print(fahrenheit)"
   ]
  },
  {
   "cell_type": "code",
   "execution_count": 23,
   "id": "9e24ebf7",
   "metadata": {},
   "outputs": [],
   "source": [
    "#nested loop"
   ]
  },
  {
   "cell_type": "code",
   "execution_count": 30,
   "id": "2fd58c29",
   "metadata": {},
   "outputs": [],
   "source": [
    "mylist=[]\n",
    "for x in[2,4,6]:\n",
    "        for y in[6,7,8]:\n",
    "            mylist.append(x*y)\n",
    "            \n",
    "   \n"
   ]
  },
  {
   "cell_type": "code",
   "execution_count": 31,
   "id": "4beaad12",
   "metadata": {},
   "outputs": [
    {
     "data": {
      "text/plain": [
       "[12, 14, 16, 24, 28, 32, 36, 42, 48]"
      ]
     },
     "execution_count": 31,
     "metadata": {},
     "output_type": "execute_result"
    }
   ],
   "source": [
    "mylist"
   ]
  },
  {
   "cell_type": "code",
   "execution_count": 33,
   "id": "7e347d92",
   "metadata": {},
   "outputs": [],
   "source": [
    "mynest=[x*y for x in [2,4,6]for y in [6,7,8]]"
   ]
  },
  {
   "cell_type": "code",
   "execution_count": 34,
   "id": "af65a685",
   "metadata": {},
   "outputs": [
    {
     "data": {
      "text/plain": [
       "[12, 14, 16, 24, 28, 32, 36, 42, 48]"
      ]
     },
     "execution_count": 34,
     "metadata": {},
     "output_type": "execute_result"
    }
   ],
   "source": [
    "mynest"
   ]
  },
  {
   "cell_type": "code",
   "execution_count": null,
   "id": "57c28c06",
   "metadata": {},
   "outputs": [],
   "source": []
  }
 ],
 "metadata": {
  "kernelspec": {
   "display_name": "Python 3 (ipykernel)",
   "language": "python",
   "name": "python3"
  },
  "language_info": {
   "codemirror_mode": {
    "name": "ipython",
    "version": 3
   },
   "file_extension": ".py",
   "mimetype": "text/x-python",
   "name": "python",
   "nbconvert_exporter": "python",
   "pygments_lexer": "ipython3",
   "version": "3.10.9"
  }
 },
 "nbformat": 4,
 "nbformat_minor": 5
}
